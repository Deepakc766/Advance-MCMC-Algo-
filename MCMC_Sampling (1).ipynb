{
  "nbformat": 4,
  "nbformat_minor": 0,
  "metadata": {
    "colab": {
      "provenance": [],
      "toc_visible": true
    },
    "kernelspec": {
      "name": "python3",
      "display_name": "Python 3"
    },
    "language_info": {
      "name": "python"
    }
  },
  "cells": [
    {
      "cell_type": "code",
      "execution_count": null,
      "metadata": {
        "colab": {
          "base_uri": "https://localhost:8080/",
          "height": 469
        },
        "id": "TsDBlUBgnE5R",
        "outputId": "b47bfb76-e132-4b4e-bc39-337b45bd9299"
      },
      "outputs": [
        {
          "output_type": "stream",
          "name": "stdout",
          "text": [
            "Acceptance rate: 0.6419\n"
          ]
        },
        {
          "output_type": "display_data",
          "data": {
            "text/plain": [
              "<Figure size 640x480 with 1 Axes>"
            ],
            "image/png": "[encoded data removed]"
          },
          "metadata": {}
        }
      ],
      "source": [
        "import numpy as np\n",
        "\n",
        "def metropolis_hastings(log_target, q_sample, q_logpdf=None, x0=0.0, n_samples=10000, burn_in=1000, thin=1, rng=None):\n",
        "    \"\"\"\n",
        "    Generic Metropolis-Hastings sampler.\n",
        "    - log_target(x): returns log of unnormalized target density at x (supports numpy arrays if desired).\n",
        "    - q_sample(x): propose new sample given current x (returns proposed x').\n",
        "    - q_logpdf(x_new, x_old): (optional) log proposal density log q(x_new | x_old). If None, assumes symmetric proposal and cancels.\n",
        "    - x0: initial state (scalar or array).\n",
        "    - returns samples after burn-in and thinning as numpy array of shape (n_kept, ...).\n",
        "    \"\"\"\n",
        "    rng = np.random.default_rng() if rng is None else rng\n",
        "    x = np.array(x0, copy=True)\n",
        "    dims = x.shape if hasattr(x, 'shape') else ()\n",
        "    samples = []\n",
        "    n_accept = 0\n",
        "\n",
        "    logp_x = log_target(x)\n",
        "\n",
        "    for i in range(n_samples):\n",
        "        x_proposed = q_sample(x)\n",
        "        logp_prop = log_target(x_proposed)\n",
        "\n",
        "        log_alpha = logp_prop - logp_x\n",
        "        if q_logpdf is not None:\n",
        "            log_alpha += q_logpdf(x, x_proposed) - q_logpdf(x_proposed, x)\n",
        "\n",
        "        if np.log(rng.random()) < log_alpha:\n",
        "            x = x_proposed\n",
        "            logp_x = logp_prop\n",
        "            n_accept += 1\n",
        "\n",
        "        if i >= burn_in and ((i - burn_in) % thin == 0):\n",
        "            samples.append(np.array(x, copy=True))\n",
        "\n",
        "    samples = np.stack(samples, axis=0)\n",
        "    acc_rate = n_accept / n_samples\n",
        "    return samples, acc_rate\n",
        "\n",
        "# Example: sample from 1D bimodal mixture p(x) = 0.3*N(-3,1) + 0.7*N(3,0.5)\n",
        "if __name__ == \"__main__\":\n",
        "    import matplotlib.pyplot as plt\n",
        "    def log_target(x):\n",
        "        # x may be scalar or array\n",
        "        x = np.atleast_1d(x)\n",
        "        logdens = np.log(0.3 * (1/np.sqrt(2*np.pi))*np.exp(-0.5*(x+3)**2) +\n",
        "                         0.7 * (1/np.sqrt(2*np.pi*0.5))*np.exp(-0.5*(x-3)**2/0.5))\n",
        "        return logdens if x.shape != () else logdens[0]\n",
        "\n",
        "    rng = np.random.default_rng(1)\n",
        "    # Gaussian random-walk proposal\n",
        "    def q_sample(x): return x + rng.normal(scale=1.0, size=np.shape(x))\n",
        "\n",
        "    samples, acc = metropolis_hastings(log_target, q_sample, x0=0.0, n_samples=30000, burn_in=5000, thin=5, rng=rng)\n",
        "    print(\"Acceptance rate:\", acc)\n",
        "    plt.hist(samples.ravel(), bins=80, density=True)\n",
        "    plt.title(\"Metropolis-Hastings samples (bimodal)\")\n",
        "    plt.show()"
      ]
    },
    {
      "cell_type": "code",
      "source": [
        "import numpy as np\n",
        "\n",
        "def metropolis_hastings(log_target, q_sample, q_logpdf=None, x0=0.0, n_samples=10000, burn_in=1000, thin=1, rng=None):\n",
        "    \"\"\"\n",
        "    Generic Metropolis-Hastings sampler.\n",
        "    - log_target(x): returns log of unnormalized target density at x (supports numpy arrays if desired).\n",
        "    - q_sample(x): propose new sample given current x (returns proposed x').\n",
        "    - q_logpdf(x_new, x_old): (optional) log proposal density log q(x_new | x_old). If None, assumes symmetric proposal and cancels.\n",
        "    - x0: initial state (scalar or array).\n",
        "    - returns samples after burn-in and thinning as numpy array of shape (n_kept, ...).\n",
        "    \"\"\"\n",
        "    rng = np.random.default_rng() if rng is None else rng\n",
        "    x = np.array(x0, copy=True)\n",
        "    dims = x.shape if hasattr(x, 'shape') else ()\n",
        "    samples = []\n",
        "    n_accept = 0\n",
        "\n",
        "    logp_x = log_target(x)\n",
        "\n",
        "    for i in range(n_samples):\n",
        "        x_proposed = q_sample(x)\n",
        "        logp_prop = log_target(x_proposed)\n",
        "\n",
        "        log_alpha = logp_prop - logp_x\n",
        "        if q_logpdf is not None:\n",
        "            log_alpha += q_logpdf(x, x_proposed) - q_logpdf(x_proposed, x)\n",
        "\n",
        "        if np.log(rng.random()) < log_alpha:\n",
        "            x = x_proposed\n",
        "            logp_x = logp_prop\n",
        "            n_accept += 1\n",
        "\n",
        "        if i >= burn_in and ((i - burn_in) % thin == 0):\n",
        "            samples.append(np.array(x, copy=True))\n",
        "\n",
        "    samples = np.stack(samples, axis=0)\n",
        "    acc_rate = n_accept / n_samples\n",
        "    return samples, acc_rate\n",
        "\n",
        "# Example: sample from 1D bimodal mixture p(x) = 0.3*N(-3,1) + 0.7*N(3,0.5)\n",
        "if __name__ == \"__main__\":\n",
        "    import matplotlib.pyplot as plt\n",
        "    def log_target(x):\n",
        "        # x may be scalar or array\n",
        "        x = np.atleast_1d(x)\n",
        "        logdens = np.log(0.3 * (1/np.sqrt(2*np.pi))*np.exp(-0.5*(x+3)**2) +\n",
        "                         0.7 * (1/np.sqrt(2*np.pi*0.5))*np.exp(-0.5*(x-3)**2/0.5))\n",
        "        return logdens if x.shape != () else logdens[0]\n",
        "\n",
        "    rng = np.random.default_rng(1)\n",
        "    # Gaussian random-walk proposal\n",
        "    def q_sample(x): return x + rng.normal(scale=1.0, size=np.shape(x))\n",
        "\n",
        "    samples, acc = metropolis_hastings(log_target, q_sample, x0=0.0, n_samples=30000, burn_in=5000, thin=5, rng=rng)\n",
        "    print(\"Acceptance rate:\", acc)\n",
        "    plt.hist(samples.ravel(), bins=80, density=True)\n",
        "    plt.title(\"Metropolis-Hastings samples (bimodal)\")\n",
        "    plt.show()\n"
      ],
      "metadata": {
        "colab": {
          "base_uri": "https://localhost:8080/",
          "height": 469
        },
        "id": "8a-TTVF8nPph",
        "outputId": "5a58c6f1-0576-4c56-df02-d93768263f9e"
      },
      "execution_count": null,
      "outputs": [
        {
          "output_type": "stream",
          "name": "stdout",
          "text": [
            "Acceptance rate: 0.6419\n"
          ]
        },
        {
          "output_type": "display_data",
          "data": {
            "text/plain": [
              "<Figure size 640x480 with 1 Axes>"
            ],
            "image/png": "[encoded data removed]"
          },
          "metadata": {}
        }
      ]
    },
    {
      "cell_type": "code",
      "source": [
        "import numpy as np\n",
        "\n",
        "def hmc(log_prob, grad_log_prob, step_size=0.1, n_steps=10, x0=None, n_samples=1000, burn_in=100, rng=None):\n",
        "    \"\"\"\n",
        "    Simple HMC for continuous targets.\n",
        "    - log_prob(x): returns log p(x) (scalar)\n",
        "    - grad_log_prob(x): returns gradient of log p at x (numpy array)\n",
        "    - step_size: epsilon\n",
        "    - n_steps: L (leapfrog steps)\n",
        "    \"\"\"\n",
        "    rng = np.random.default_rng() if rng is None else rng\n",
        "    x = np.array(x0, dtype=float)\n",
        "    samples = []\n",
        "    accept = 0\n",
        "    for i in range(n_samples):\n",
        "        # Sample momentum\n",
        "        p = rng.normal(size=x.shape)\n",
        "        current_x = x.copy()\n",
        "        current_p = p.copy()\n",
        "\n",
        "        # half step for p\n",
        "        p = p + 0.5 * step_size * grad_log_prob(x)\n",
        "\n",
        "        # full leapfrog steps\n",
        "        for _ in range(n_steps):\n",
        "            x = x + step_size * p\n",
        "            # full step for p except at end\n",
        "            if _ != n_steps - 1:\n",
        "                p = p + step_size * grad_log_prob(x)\n",
        "\n",
        "        # final half-step\n",
        "        p = p + 0.5 * step_size * grad_log_prob(x)\n",
        "        # negate momentum for symmetry\n",
        "        p = -p\n",
        "\n",
        "        # Metropolis accept/reject\n",
        "        current_H = -log_prob(current_x) + 0.5 * np.sum(current_p**2)\n",
        "        proposed_H = -log_prob(x) + 0.5 * np.sum(p**2)\n",
        "        if np.log(rng.random()) < (current_H - proposed_H):\n",
        "            # accept (x already updated)\n",
        "            accept += 1\n",
        "        else:\n",
        "            # reject: revert\n",
        "            x = current_x\n",
        "\n",
        "        if i >= burn_in:\n",
        "            samples.append(x.copy())\n",
        "\n",
        "    return np.array(samples), accept / n_samples\n",
        "\n",
        "# Example: sample from 2D standard normal\n",
        "if __name__ == \"__main__\":\n",
        "    def log_p(x):\n",
        "        return -0.5 * np.dot(x, x)\n",
        "\n",
        "    def grad_log_p(x):\n",
        "        return -x\n",
        "\n",
        "    x0 = np.array([2.0, 0.0])\n",
        "    samples, acc = hmc(log_p, grad_log_p, step_size=0.2, n_steps=25, x0=x0, n_samples=2000, burn_in=200)\n",
        "    print(\"HMC acceptance rate:\", acc)\n",
        "    print(\"Sample mean:\", samples.mean(axis=0))\n"
      ],
      "metadata": {
        "colab": {
          "base_uri": "https://localhost:8080/"
        },
        "id": "E_NgqLebnUMd",
        "outputId": "d72adac5-e753-4d13-fded-f13898f4d4ad"
      },
      "execution_count": null,
      "outputs": [
        {
          "output_type": "stream",
          "name": "stdout",
          "text": [
            "HMC acceptance rate: 0.9945\n",
            "Sample mean: [0.02408059 0.0270669 ]\n"
          ]
        }
      ]
    },
    {
      "cell_type": "code",
      "source": [
        "import numpy as np\n",
        "\n",
        "class SGLD:\n",
        "    def __init__(self, loglik_grad, x, y, dim, lr=1e-3, prior_var=1.0, rng=None):\n",
        "        \"\"\"\n",
        "        loglik_grad: function(w, minibatch_x, minibatch_y) -> gradient of log-likelihood wrt w\n",
        "        x, y: full dataset\n",
        "        dim: number of parameters\n",
        "        lr: learning rate (step size)\n",
        "        prior_var: Gaussian prior variance for weights\n",
        "        \"\"\"\n",
        "        self.loglik_grad = loglik_grad\n",
        "        self.x, self.y = x, y\n",
        "        self.dim = dim\n",
        "        self.lr = lr\n",
        "        self.prior_var = prior_var\n",
        "        self.rng = np.random.default_rng() if rng is None else rng\n",
        "\n",
        "    def sample(self, n_samples=1000, batch_size=128, burn_in=200):\n",
        "        w = np.zeros(self.dim)\n",
        "        samples = []\n",
        "        N = len(self.y)\n",
        "\n",
        "        for it in range(n_samples + burn_in):\n",
        "            idx = self.rng.choice(N, batch_size, replace=False)\n",
        "            xb, yb = self.x[idx], self.y[idx]\n",
        "\n",
        "            # gradient of log posterior = loglik + log prior\n",
        "            grad_loglik = self.loglik_grad(w, xb, yb) * (N / batch_size)\n",
        "            grad_prior = -(1 / self.prior_var) * w\n",
        "            grad = grad_loglik + grad_prior\n",
        "\n",
        "            # Langevin update with injected noise\n",
        "            noise = self.rng.normal(scale=np.sqrt(self.lr), size=self.dim)\n",
        "            w = w + 0.5 * self.lr * grad + noise\n",
        "\n",
        "            if it >= burn_in:\n",
        "                samples.append(w.copy())\n",
        "\n",
        "        return np.array(samples)\n",
        "\n",
        "if __name__ == \"__main__\":\n",
        "    rng = np.random.default_rng(42)\n",
        "    N, d = 2000, 500   # samples x dimensions\n",
        "    X = rng.normal(size=(N, d))\n",
        "    true_w = rng.normal(scale=0.1, size=d)\n",
        "    logits = X @ true_w\n",
        "    y = rng.binomial(1, 1/(1+np.exp(-logits)))\n",
        "\n",
        "    # gradient of log-likelihood wrt w\n",
        "    def loglik_grad(w, xb, yb):\n",
        "        preds = 1/(1+np.exp(-(xb @ w)))\n",
        "        return xb.T @ (yb - preds)\n",
        "\n",
        "    sgld = SGLD(loglik_grad, X, y, dim=d, lr=1e-4, prior_var=1.0, rng=rng)\n",
        "    samples = sgld.sample(n_samples=2000, burn_in=500)\n",
        "\n",
        "    print(\"Posterior mean norm:\", np.linalg.norm(samples.mean(axis=0)))\n",
        "    print(\"Posterior covariance (diag, first 5):\", np.var(samples, axis=0)[:5])\n"
      ],
      "metadata": {
        "colab": {
          "base_uri": "https://localhost:8080/"
        },
        "id": "0rH8Y6uon_m2",
        "outputId": "6c21bf02-f43c-43ac-fb05-db01e76c4138"
      },
      "execution_count": 1,
      "outputs": [
        {
          "output_type": "stream",
          "name": "stdout",
          "text": [
            "Posterior mean norm: 5.59729542565969\n",
            "Posterior covariance (diag, first 5): [0.00577869 0.01074917 0.01752552 0.00744145 0.00924076]\n"
          ]
        }
      ]
    }
  ]
}